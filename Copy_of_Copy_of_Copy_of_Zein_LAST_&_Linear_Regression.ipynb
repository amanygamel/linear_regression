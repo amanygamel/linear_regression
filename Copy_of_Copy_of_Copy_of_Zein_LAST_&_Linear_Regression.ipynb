{
  "cells": [
    {
      "cell_type": "markdown",
      "metadata": {
        "id": "km52QIi8-EUW"
      },
      "source": [
        "This notebook is prepared by ApplAi's Technical And Training Depratment, Please \n",
        "Don't use it outside the training without asking for permission as it's considered as Violation of Intellectual property rights\n",
        "\n",
        "![ApplAi's Logo](https://media-exp1.licdn.com/dms/image/C4E0BAQHGLGltI2rzuQ/company-logo_200_200/0?e=2159024400&v=beta&t=adq8rNV09dPC6egdJMnfARt6Aq0TC9bSomFvFtm50WM)"
      ]
    },
    {
      "cell_type": "markdown",
      "metadata": {
        "id": "nHL1kV_H8RGM"
      },
      "source": [
        "# **Introduction**\n",
        "\n",
        "\n",
        "In this notebook, you will implement linear regression algorithm and apply it to the game's dataset. The dataset is based on the realtion between relative width of an object and the actual distance. We strongly recommend Asking your colleagues and your Coach Using Questions And Discussions Channel on Microsoft Teams."
      ]
    },
    {
      "cell_type": "markdown",
      "metadata": {
        "id": "WLkU8iqJ-Wf2"
      },
      "source": [
        "#### Run the next cell to import the needed libraries and to load the dataset and Plot Dataset\n"
      ]
    },
    {
      "cell_type": "code",
      "execution_count": null,
      "metadata": {
        "colab": {
          "base_uri": "https://localhost:8080/",
          "height": 404
        },
        "id": "qi2a1yj_8Mdm",
        "outputId": "1b155112-fbbb-4c49-e512-04e7febd54ca"
      },
      "outputs": [
        {
          "output_type": "display_data",
          "data": {
            "text/plain": [
              "<Figure size 432x432 with 1 Axes>"
            ],
            "image/png": "[encoded data removed]"
          },
          "metadata": {
            "needs_background": "light"
          }
        }
      ],
      "source": [
        "import numpy as np                          # Dealing with Numpy Arrays\n",
        "import matplotlib.pyplot as plt             # matplotlib is used for ploting graphs\n",
        "from IPython.display import HTML\n",
        "import pandas as pd\n",
        "\n",
        "# Lets the plots appears in the notebook\n",
        "%matplotlib inline\n",
        "\n",
        "data = pd.read_excel(\"Training Data .xlsx\")\n",
        "iterations = 150\n",
        "\n",
        "# Split the Data To X and Y where X is the input Feature (Size) and Y is the Output (Price)\n",
        "\n",
        "X = data.iloc[:, 0].values\n",
        "Y = data.iloc[:, 1].values\n",
        "\n",
        "X = X.reshape(X.shape[0],-1)\n",
        "Y = Y.reshape(Y.shape[0],-1)\n",
        "\n",
        "plt.figure(figsize=(6, 6))\n",
        "plt.plot(X, Y, 'ro', ms=8, mec='k')\n",
        "plt.title(\"Data\")\n",
        "plt.xlabel('Barricade Width')\n",
        "plt.ylabel('Distance in m.')\n",
        "plt.grid(False)"
      ]
    },
    {
      "cell_type": "markdown",
      "metadata": {
        "id": "FatP_jcgCJL1"
      },
      "source": [
        "This is the hypothesis function that predicts based on the theta parameters that you provide."
      ]
    },
    {
      "cell_type": "code",
      "execution_count": null,
      "metadata": {
        "id": "P6YOHUsGCIKq"
      },
      "outputs": [],
      "source": [
        "def Predictive_Line(X, Theta):\n",
        "\n",
        "    Predictions = None\n",
        "    X = np.append(np.ones((1,X.shape[0])), X.reshape((1,X.shape[0])), axis = 0)\n",
        "\n",
        "  # ==================== YOUR CODE HERE =================================\n",
        "    Predictions = np.dot(Theta.T, X)\n",
        "  # =====================================================================\n",
        "  \n",
        "    Predictions = Predictions.T\n",
        "    return Predictions"
      ]
    },
    {
      "cell_type": "markdown",
      "metadata": {
        "id": "kGZf8PO0CVTK"
      },
      "source": [
        "This is the funcion for calculating cost to improve your model accuracy by adjusting the alpha parameter."
      ]
    },
    {
      "cell_type": "code",
      "execution_count": null,
      "metadata": {
        "id": "OSVpKxQdCVea"
      },
      "outputs": [],
      "source": [
        "def Calculate_Cost(X, Theta, Y):\n",
        "    m = Y.shape[0]\n",
        "    J = 0\n",
        "  # ==================== YOUR CODE HERE =================================\n",
        "    p = Predictive_Line(X, Theta.T)\n",
        "    J = (1/(2*m)) * np.sum(((p - Y)**2), axis=0)\n",
        "  # ===================================================================== \n",
        "    return J"
      ]
    },
    {
      "cell_type": "markdown",
      "metadata": {
        "id": "2jDP77OuCWJl"
      },
      "source": [
        "This is the Gradient Descent function"
      ]
    },
    {
      "cell_type": "code",
      "execution_count": null,
      "metadata": {
        "id": "AgXY9wXoCZam"
      },
      "outputs": [],
      "source": [
        "def Gradient_Descent(X, Y, Theta, alpha, num_iters):\n",
        "    m = Y.shape[0]\n",
        "    J= []\n",
        "        # ==================== YOUR CODE HERE =================================\n",
        "    X1 = np.append(np.ones(X.shape), X, axis = 1)\n",
        "    for i in range(num_iters):\n",
        "      p = Predictive_Line(X, Theta.T)\n",
        "      Theta = Theta - ( (alpha / m) * np.sum((p - Y) * (X1),axis=0))\n",
        "      J.append(Calculate_Cost(X,Theta,Y))\n",
        "        # =====================================================================\n",
        "    return Theta,J"
      ]
    },
    {
      "cell_type": "markdown",
      "metadata": {
        "id": "nYe3671ICeEu"
      },
      "source": [
        "Here we apply the training process"
      ]
    },
    {
      "cell_type": "code",
      "execution_count": null,
      "metadata": {
        "id": "Nb64KMC3Cha2"
      },
      "outputs": [],
      "source": [
        "Theta,J = Gradient_Descent(X, Y, Theta = np.array([0,0]).reshape((1,2)), alpha = 0.14,num_iters = iterations)\n",
        "#J  = Calculate_Cost(X, Theta.T,Y)\n",
        "P = Predictive_Line(X, Theta.T)"
      ]
    },
    {
      "cell_type": "markdown",
      "metadata": {
        "id": "sfJ6ET13ChA2"
      },
      "source": [
        "The plotting of the predicted line on the training data."
      ]
    },
    {
      "cell_type": "code",
      "execution_count": null,
      "metadata": {
        "colab": {
          "base_uri": "https://localhost:8080/",
          "height": 404
        },
        "id": "HUysase9CeNv",
        "outputId": "f93dacf1-c617-4ae4-d64c-bcb125547056"
      },
      "outputs": [
        {
          "output_type": "display_data",
          "data": {
            "text/plain": [
              "<Figure size 432x432 with 1 Axes>"
            ],
            "image/png": "[encoded data removed]"
          },
          "metadata": {
            "needs_background": "light"
          }
        }
      ],
      "source": [
        "plt.figure(figsize=(6, 6))\n",
        "plt.plot(X, Y, 'ro', ms=8, mec='k')\n",
        "plt.title(\"Data\")\n",
        "plt.xlabel('Barricade Width')\n",
        "plt.ylabel('Distance in m.')\n",
        "plt.grid(False)\n",
        "plt.plot(X, P, '-')\n",
        "plt.legend(['Training data', 'Predictive Line']);"
      ]
    },
    {
      "cell_type": "code",
      "execution_count": null,
      "metadata": {
        "colab": {
          "base_uri": "https://localhost:8080/",
          "height": 299
        },
        "id": "f3zJ7couDQ9G",
        "outputId": "56f7ff24-ae14-4710-f47a-a11499438135"
      },
      "outputs": [
        {
          "output_type": "execute_result",
          "data": {
            "text/plain": [
              "Text(0, 0.5, 'Cost J')"
            ]
          },
          "metadata": {},
          "execution_count": 83
        },
        {
          "output_type": "display_data",
          "data": {
            "text/plain": [
              "<Figure size 432x288 with 1 Axes>"
            ],
            "image/png": "[encoded data removed]"
          },
          "metadata": {
            "needs_background": "light"
          }
        }
      ],
      "source": [
        "plt.plot(np.arange(len(J)), J, lw=2)\n",
        "\n",
        "plt.xlabel('Number of iterations')\n",
        "plt.ylabel('Cost J')   "
      ]
    },
    {
      "cell_type": "markdown",
      "metadata": {
        "id": "Ymhkkz6pbeNu"
      },
      "source": [
        "Here we read the data and get the predictions."
      ]
    },
    {
      "cell_type": "code",
      "execution_count": null,
      "metadata": {
        "colab": {
          "base_uri": "https://localhost:8080/"
        },
        "id": "HDww8CuWZTbF",
        "outputId": "7ca8bb0e-97c8-4718-c01d-52d8483db165"
      },
      "outputs": [
        {
          "output_type": "stream",
          "name": "stdout",
          "text": [
            "[[31.53301939]\n",
            " [39.78034189]\n",
            " [49.37025176]]\n"
          ]
        }
      ],
      "source": [
        "test = pd.read_csv('Test Data.txt',header = None).to_numpy()\n",
        "test_data_distances = Predictive_Line(test, Theta.reshape(2,1))\n",
        "print(test_data_distances)"
      ]
    },
    {
      "cell_type": "markdown",
      "metadata": {
        "id": "_uQbMhmocbGd"
      },
      "source": [
        "At last we convert the results to a downloadable text file."
      ]
    },
    {
      "cell_type": "code",
      "execution_count": null,
      "metadata": {
        "id": "7zmC58yEcbVw"
      },
      "outputs": [],
      "source": [
        "import sys\n",
        "f = open(\"Distances.txt\", \"w\")\n",
        "for i in test_data_distances:\n",
        "  print(i[0], file = f)\n",
        "f.close()"
      ]
    }
  ],
  "metadata": {
    "colab": {
      "provenance": [],
      "collapsed_sections": []
    },
    "kernelspec": {
      "display_name": "Python 3",
      "name": "python3"
    }
  },
  "nbformat": 4,
  "nbformat_minor": 0
}